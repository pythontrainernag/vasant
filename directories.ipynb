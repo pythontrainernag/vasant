{
 "cells": [
  {
   "cell_type": "code",
   "execution_count": 1,
   "metadata": {
    "collapsed": true
   },
   "outputs": [],
   "source": [
    "import os"
   ]
  },
  {
   "cell_type": "code",
   "execution_count": 2,
   "metadata": {},
   "outputs": [
    {
     "name": "stdout",
     "output_type": "stream",
     "text": [
      "D:\\personal\\vasant\\classes\\vasant\n"
     ]
    }
   ],
   "source": [
    "print os.getcwd()"
   ]
  },
  {
   "cell_type": "code",
   "execution_count": 3,
   "metadata": {},
   "outputs": [
    {
     "ename": "IOError",
     "evalue": "[Errno 2] No such file or directory: 'sample123.txt'",
     "output_type": "error",
     "traceback": [
      "\u001b[1;31m--------------------------------------------------------------\u001b[0m",
      "\u001b[1;31mIOError\u001b[0m                      Traceback (most recent call last)",
      "\u001b[1;32m<ipython-input-3-17f0743babe7>\u001b[0m in \u001b[0;36m<module>\u001b[1;34m()\u001b[0m\n\u001b[1;32m----> 1\u001b[1;33m \u001b[0mf\u001b[0m \u001b[1;33m=\u001b[0m \u001b[0mopen\u001b[0m\u001b[1;33m(\u001b[0m\u001b[1;34m'sample123.txt'\u001b[0m\u001b[1;33m,\u001b[0m \u001b[1;34m'r'\u001b[0m\u001b[1;33m)\u001b[0m\u001b[1;33m\u001b[0m\u001b[0m\n\u001b[0m",
      "\u001b[1;31mIOError\u001b[0m: [Errno 2] No such file or directory: 'sample123.txt'"
     ]
    }
   ],
   "source": [
    "f = open('sample123.txt', 'r')"
   ]
  },
  {
   "cell_type": "code",
   "execution_count": 4,
   "metadata": {
    "collapsed": true
   },
   "outputs": [],
   "source": [
    "f = open('../sample123.txt', 'r')"
   ]
  },
  {
   "cell_type": "code",
   "execution_count": 5,
   "metadata": {},
   "outputs": [
    {
     "name": "stdout",
     "output_type": "stream",
     "text": [
      "sample sample sample\n"
     ]
    }
   ],
   "source": [
    "print f.read()\n",
    "f.close()"
   ]
  },
  {
   "cell_type": "code",
   "execution_count": 6,
   "metadata": {
    "collapsed": true
   },
   "outputs": [],
   "source": [
    "os.chdir('..')\n",
    "f = open('sample123.txt', 'r')"
   ]
  },
  {
   "cell_type": "code",
   "execution_count": 7,
   "metadata": {},
   "outputs": [
    {
     "name": "stdout",
     "output_type": "stream",
     "text": [
      "D:\\personal\\vasant\\classes\n"
     ]
    }
   ],
   "source": [
    "print os.getcwd()"
   ]
  },
  {
   "cell_type": "code",
   "execution_count": 8,
   "metadata": {},
   "outputs": [
    {
     "name": "stdout",
     "output_type": "stream",
     "text": [
      "sample sample sample\n"
     ]
    }
   ],
   "source": [
    "print f.read()"
   ]
  },
  {
   "cell_type": "code",
   "execution_count": 9,
   "metadata": {
    "collapsed": true
   },
   "outputs": [],
   "source": [
    "f.close()"
   ]
  },
  {
   "cell_type": "code",
   "execution_count": 10,
   "metadata": {},
   "outputs": [
    {
     "name": "stdout",
     "output_type": "stream",
     "text": [
      "['F_OK', 'O_APPEND', 'O_BINARY', 'O_CREAT', 'O_EXCL', 'O_NOINHERIT', 'O_RANDOM', 'O_RDONLY', 'O_RDWR', 'O_SEQUENTIAL', 'O_SHORT_LIVED', 'O_TEMPORARY', 'O_TEXT', 'O_TRUNC', 'O_WRONLY', 'P_DETACH', 'P_NOWAIT', 'P_NOWAITO', 'P_OVERLAY', 'P_WAIT', 'R_OK', 'SEEK_CUR', 'SEEK_END', 'SEEK_SET', 'TMP_MAX', 'UserDict', 'W_OK', 'X_OK', '_Environ', '__all__', '__builtins__', '__doc__', '__file__', '__name__', '__package__', '_copy_reg', '_execvpe', '_exists', '_exit', '_get_exports_list', '_make_stat_result', '_make_statvfs_result', '_pickle_stat_result', '_pickle_statvfs_result', 'abort', 'access', 'altsep', 'chdir', 'chmod', 'close', 'closerange', 'curdir', 'defpath', 'devnull', 'dup', 'dup2', 'environ', 'errno', 'error', 'execl', 'execle', 'execlp', 'execlpe', 'execv', 'execve', 'execvp', 'execvpe', 'extsep', 'fdopen', 'fstat', 'fsync', 'getcwd', 'getcwdu', 'getenv', 'getpid', 'isatty', 'kill', 'linesep', 'listdir', 'lseek', 'lstat', 'makedirs', 'mkdir', 'name', 'open', 'pardir', 'path', 'pathsep', 'pipe', 'popen', 'popen2', 'popen3', 'popen4', 'putenv', 'read', 'remove', 'removedirs', 'rename', 'renames', 'rmdir', 'sep', 'spawnl', 'spawnle', 'spawnv', 'spawnve', 'startfile', 'stat', 'stat_float_times', 'stat_result', 'statvfs_result', 'strerror', 'sys', 'system', 'tempnam', 'times', 'tmpfile', 'tmpnam', 'umask', 'unlink', 'unsetenv', 'urandom', 'utime', 'waitpid', 'walk', 'write']\n"
     ]
    }
   ],
   "source": [
    "print dir(os)"
   ]
  },
  {
   "cell_type": "code",
   "execution_count": 11,
   "metadata": {},
   "outputs": [
    {
     "name": "stdout",
     "output_type": "stream",
     "text": [
      "D:\\personal\\vasant\\classes\n"
     ]
    }
   ],
   "source": [
    "print os.getcwd()"
   ]
  },
  {
   "cell_type": "code",
   "execution_count": 12,
   "metadata": {
    "collapsed": true
   },
   "outputs": [],
   "source": [
    "os.mkdir('sample')"
   ]
  },
  {
   "cell_type": "code",
   "execution_count": 15,
   "metadata": {
    "collapsed": true
   },
   "outputs": [],
   "source": [
    "os.makedirs('sample1/sample')"
   ]
  },
  {
   "cell_type": "code",
   "execution_count": 16,
   "metadata": {},
   "outputs": [
    {
     "name": "stdout",
     "output_type": "stream",
     "text": [
      "['sample', 'sample1', 'sample123.txt', 'vasant']\n"
     ]
    }
   ],
   "source": [
    "print os.listdir('.')"
   ]
  },
  {
   "cell_type": "code",
   "execution_count": 17,
   "metadata": {
    "collapsed": true
   },
   "outputs": [],
   "source": [
    "x = os.walk('.')"
   ]
  },
  {
   "cell_type": "code",
   "execution_count": 18,
   "metadata": {},
   "outputs": [
    {
     "data": {
      "text/plain": [
       "<generator object walk at 0x03ADD170>"
      ]
     },
     "execution_count": 18,
     "metadata": {},
     "output_type": "execute_result"
    }
   ],
   "source": [
    "x"
   ]
  },
  {
   "cell_type": "code",
   "execution_count": 19,
   "metadata": {},
   "outputs": [
    {
     "name": "stdout",
     "output_type": "stream",
     "text": [
      "('.', ['sample', 'sample1', 'vasant'], ['sample123.txt'])\n",
      "('.\\\\sample', [], [])\n",
      "('.\\\\sample1', ['sample'], [])\n",
      "('.\\\\sample1\\\\sample', [], [])\n",
      "('.\\\\vasant', ['.git', '.ipynb_checkpoints', 'cla'], ['aa.txt', 'ab.txt', 'arth.py', 'arth.pyc', 'arth_mod.py', 'dictionaries.ipynb', 'directories.ipynb', 'example.txt', 'file operations.ipynb', 'functions.ipynb', 'generators.ipynb', 'inheritance.ipynb', 'LICENSE', 'list comprehension.ipynb', 'oops.ipynb', 'sets.ipynb', 'setup.py', 'shallow and deep copy.ipynb', 'tuple.ipynb', 'Untitled.ipynb', 'variables.ipynb'])\n",
      "('.\\\\vasant\\\\.git', ['hooks', 'info', 'logs', 'objects', 'refs'], ['COMMIT_EDITMSG', 'config', 'description', 'HEAD', 'index', 'packed-refs'])\n",
      "('.\\\\vasant\\\\.git\\\\hooks', [], ['applypatch-msg.sample', 'commit-msg.sample', 'post-update.sample', 'pre-applypatch.sample', 'pre-commit.sample', 'pre-push.sample', 'pre-rebase.sample', 'pre-receive.sample', 'prepare-commit-msg.sample', 'update.sample'])\n",
      "('.\\\\vasant\\\\.git\\\\info', [], ['exclude'])\n",
      "('.\\\\vasant\\\\.git\\\\logs', ['refs'], ['HEAD'])\n",
      "('.\\\\vasant\\\\.git\\\\logs\\\\refs', ['heads', 'remotes'], [])\n",
      "('.\\\\vasant\\\\.git\\\\logs\\\\refs\\\\heads', [], ['master'])\n",
      "('.\\\\vasant\\\\.git\\\\logs\\\\refs\\\\remotes', ['origin'], [])\n",
      "('.\\\\vasant\\\\.git\\\\logs\\\\refs\\\\remotes\\\\origin', [], ['HEAD'])\n",
      "('.\\\\vasant\\\\.git\\\\objects', ['0b', '11', '1f', '2f', '56', '5d', '5e', '81', 'aa', 'b3', 'b6', 'bf', 'dc', 'f2', 'info', 'pack'], [])\n",
      "('.\\\\vasant\\\\.git\\\\objects\\\\0b', [], ['585b97f52b406f5a1486d3c7898327527a16fe'])\n",
      "('.\\\\vasant\\\\.git\\\\objects\\\\11', [], ['af7e0b3dd74fddfc0e862e69d4cca694c225c2'])\n",
      "('.\\\\vasant\\\\.git\\\\objects\\\\1f', [], ['b42c1c5a4271a36da2fc786861cf4ba882402c'])\n",
      "('.\\\\vasant\\\\.git\\\\objects\\\\2f', [], ['d64429bf421126b7000c94ce0f6fd186fbd01f'])\n",
      "('.\\\\vasant\\\\.git\\\\objects\\\\56', [], ['19bf239315a87c41b553921194896c1a2fb3a4'])\n",
      "('.\\\\vasant\\\\.git\\\\objects\\\\5d', [], ['4caaa39a139a7148ef5baafce13160136d8f6e'])\n",
      "('.\\\\vasant\\\\.git\\\\objects\\\\5e', [], ['ef95fcf8b123f2e4134ce35abaffb443305d92'])\n",
      "('.\\\\vasant\\\\.git\\\\objects\\\\81', [], ['8d3fa01537eefd8f15e798c9757b9de0a36cd8'])\n",
      "('.\\\\vasant\\\\.git\\\\objects\\\\aa', [], ['4d1d27cdeb4b3690cf1aec9771ebfadbc94675'])\n",
      "('.\\\\vasant\\\\.git\\\\objects\\\\b3', [], ['4657d180dc4b9c4c1769cc135f27c76289e0b1'])\n",
      "('.\\\\vasant\\\\.git\\\\objects\\\\b6', [], ['b7a7c6e40498b031c9d2f274fe36393af64521'])\n",
      "('.\\\\vasant\\\\.git\\\\objects\\\\bf', [], ['3f59f47f185149a7133ba08b9b38b9a67c5426'])\n",
      "('.\\\\vasant\\\\.git\\\\objects\\\\dc', [], ['4cdf60899e7604f64e53be80e5429aa4470fa3'])\n",
      "('.\\\\vasant\\\\.git\\\\objects\\\\f2', [], ['88702d2fa16d3cdf0035b15a9fcbc552cd88e7'])\n",
      "('.\\\\vasant\\\\.git\\\\objects\\\\info', [], [])\n",
      "('.\\\\vasant\\\\.git\\\\objects\\\\pack', [], [])\n",
      "('.\\\\vasant\\\\.git\\\\refs', ['heads', 'remotes', 'tags'], [])\n",
      "('.\\\\vasant\\\\.git\\\\refs\\\\heads', [], ['master'])\n",
      "('.\\\\vasant\\\\.git\\\\refs\\\\remotes', ['origin'], [])\n",
      "('.\\\\vasant\\\\.git\\\\refs\\\\remotes\\\\origin', [], ['HEAD'])\n",
      "('.\\\\vasant\\\\.git\\\\refs\\\\tags', [], [])\n",
      "('.\\\\vasant\\\\.ipynb_checkpoints', [], ['dictionaries-checkpoint.ipynb', 'directories-checkpoint.ipynb', 'file operations-checkpoint.ipynb', 'functions-checkpoint.ipynb', 'generators-checkpoint.ipynb', 'inheritance-checkpoint.ipynb', 'list comprehension-checkpoint.ipynb', 'oops-checkpoint.ipynb', 'sets-checkpoint.ipynb', 'shallow and deep copy-checkpoint.ipynb', 'tuple-checkpoint.ipynb', 'Untitled-checkpoint.ipynb', 'variables-checkpoint.ipynb'])\n",
      "('.\\\\vasant\\\\cla', [], ['file1.py', 'file1.pyc', 'file2.py', 'file2.pyc', '__init__.py', '__init__.pyc'])\n"
     ]
    }
   ],
   "source": [
    "for y in x:\n",
    "    print y"
   ]
  },
  {
   "cell_type": "code",
   "execution_count": 20,
   "metadata": {},
   "outputs": [
    {
     "name": "stdout",
     "output_type": "stream",
     "text": [
      "['F_OK', 'O_APPEND', 'O_BINARY', 'O_CREAT', 'O_EXCL', 'O_NOINHERIT', 'O_RANDOM', 'O_RDONLY', 'O_RDWR', 'O_SEQUENTIAL', 'O_SHORT_LIVED', 'O_TEMPORARY', 'O_TEXT', 'O_TRUNC', 'O_WRONLY', 'P_DETACH', 'P_NOWAIT', 'P_NOWAITO', 'P_OVERLAY', 'P_WAIT', 'R_OK', 'SEEK_CUR', 'SEEK_END', 'SEEK_SET', 'TMP_MAX', 'UserDict', 'W_OK', 'X_OK', '_Environ', '__all__', '__builtins__', '__doc__', '__file__', '__name__', '__package__', '_copy_reg', '_execvpe', '_exists', '_exit', '_get_exports_list', '_make_stat_result', '_make_statvfs_result', '_pickle_stat_result', '_pickle_statvfs_result', 'abort', 'access', 'altsep', 'chdir', 'chmod', 'close', 'closerange', 'curdir', 'defpath', 'devnull', 'dup', 'dup2', 'environ', 'errno', 'error', 'execl', 'execle', 'execlp', 'execlpe', 'execv', 'execve', 'execvp', 'execvpe', 'extsep', 'fdopen', 'fstat', 'fsync', 'getcwd', 'getcwdu', 'getenv', 'getpid', 'isatty', 'kill', 'linesep', 'listdir', 'lseek', 'lstat', 'makedirs', 'mkdir', 'name', 'open', 'pardir', 'path', 'pathsep', 'pipe', 'popen', 'popen2', 'popen3', 'popen4', 'putenv', 'read', 'remove', 'removedirs', 'rename', 'renames', 'rmdir', 'sep', 'spawnl', 'spawnle', 'spawnv', 'spawnve', 'startfile', 'stat', 'stat_float_times', 'stat_result', 'statvfs_result', 'strerror', 'sys', 'system', 'tempnam', 'times', 'tmpfile', 'tmpnam', 'umask', 'unlink', 'unsetenv', 'urandom', 'utime', 'waitpid', 'walk', 'write']\n"
     ]
    }
   ],
   "source": [
    "print dir(os)"
   ]
  },
  {
   "cell_type": "code",
   "execution_count": 1,
   "metadata": {
    "collapsed": true
   },
   "outputs": [],
   "source": [
    "# read the numbers from console separated by ; like \"10;20;30\" and find the sum of all values\n",
    "# read the two sets of numbers like '10 20 30' & '11 21 31'. print sum of both sets of numbers '21 41 61'\n",
    "\n",
    "# take a dictionary as below\n",
    "# a = {'host1':['N1', 'N3', 'N7', 'N2'], 'host2': ['N1', 'N8', 'N15', 'N3'], 'host3': ['N3', 'N20', 'N1']}\n",
    "# find the command networks among hosts\n"
   ]
  },
  {
   "cell_type": "code",
   "execution_count": 2,
   "metadata": {
    "collapsed": true
   },
   "outputs": [],
   "source": [
    "import os"
   ]
  },
  {
   "cell_type": "code",
   "execution_count": 3,
   "metadata": {},
   "outputs": [
    {
     "name": "stdout",
     "output_type": "stream",
     "text": [
      "['__all__', '__builtins__', '__doc__', '__file__', '__name__', '__package__', '_abspath_split', '_getfullpathname', '_unicode', 'abspath', 'altsep', 'basename', 'commonprefix', 'curdir', 'defpath', 'devnull', 'dirname', 'exists', 'expanduser', 'expandvars', 'extsep', 'genericpath', 'getatime', 'getctime', 'getmtime', 'getsize', 'isabs', 'isdir', 'isfile', 'islink', 'ismount', 'join', 'lexists', 'normcase', 'normpath', 'os', 'pardir', 'pathsep', 'realpath', 'relpath', 'sep', 'split', 'splitdrive', 'splitext', 'splitunc', 'stat', 'supports_unicode_filenames', 'sys', 'walk', 'warnings']\n"
     ]
    }
   ],
   "source": [
    "print dir(os.path)"
   ]
  },
  {
   "cell_type": "code",
   "execution_count": 4,
   "metadata": {
    "collapsed": true
   },
   "outputs": [],
   "source": [
    "x = os.getcwd()"
   ]
  },
  {
   "cell_type": "code",
   "execution_count": 5,
   "metadata": {},
   "outputs": [
    {
     "name": "stdout",
     "output_type": "stream",
     "text": [
      "D:\\personal\\vasant\\classes\\vasant\n"
     ]
    }
   ],
   "source": [
    "print x"
   ]
  },
  {
   "cell_type": "code",
   "execution_count": 6,
   "metadata": {},
   "outputs": [
    {
     "name": "stdout",
     "output_type": "stream",
     "text": [
      "True\n"
     ]
    }
   ],
   "source": [
    "print os.path.isdir(x)"
   ]
  },
  {
   "cell_type": "code",
   "execution_count": 7,
   "metadata": {},
   "outputs": [
    {
     "name": "stdout",
     "output_type": "stream",
     "text": [
      "False\n"
     ]
    }
   ],
   "source": [
    "print os.path.isfile(x)"
   ]
  },
  {
   "cell_type": "code",
   "execution_count": 8,
   "metadata": {},
   "outputs": [
    {
     "name": "stdout",
     "output_type": "stream",
     "text": [
      "C:\\Users\\nexii\n"
     ]
    }
   ],
   "source": [
    "print os.path.expanduser('~')"
   ]
  },
  {
   "cell_type": "code",
   "execution_count": 9,
   "metadata": {},
   "outputs": [
    {
     "data": {
      "text/plain": [
       "'aa.txt'"
      ]
     },
     "execution_count": 9,
     "metadata": {},
     "output_type": "execute_result"
    }
   ],
   "source": [
    "os.path.basename('D:/personal/vasant/classes/vasant/aa.txt')"
   ]
  },
  {
   "cell_type": "code",
   "execution_count": 10,
   "metadata": {},
   "outputs": [
    {
     "data": {
      "text/plain": [
       "'D:/personal/vasant/classes/vasant'"
      ]
     },
     "execution_count": 10,
     "metadata": {},
     "output_type": "execute_result"
    }
   ],
   "source": [
    "os.path.dirname('D:/personal/vasant/classes/vasant/aa.txt')"
   ]
  },
  {
   "cell_type": "code",
   "execution_count": 12,
   "metadata": {},
   "outputs": [
    {
     "data": {
      "text/plain": [
       "1"
      ]
     },
     "execution_count": 12,
     "metadata": {},
     "output_type": "execute_result"
    }
   ],
   "source": [
    "os.system('ls')"
   ]
  },
  {
   "cell_type": "code",
   "execution_count": 16,
   "metadata": {},
   "outputs": [],
   "source": [
    "#subprocess\n",
    "cmd = 'rmdir <dirname>'\n",
    "import subprocess\n",
    "x = subprocess.call([cmd], shell=True)"
   ]
  },
  {
   "cell_type": "code",
   "execution_count": 17,
   "metadata": {},
   "outputs": [
    {
     "data": {
      "text/plain": [
       "1"
      ]
     },
     "execution_count": 17,
     "metadata": {},
     "output_type": "execute_result"
    }
   ],
   "source": [
    "x"
   ]
  },
  {
   "cell_type": "code",
   "execution_count": null,
   "metadata": {
    "collapsed": true
   },
   "outputs": [],
   "source": [
    "#exceptions"
   ]
  }
 ],
 "metadata": {
  "kernelspec": {
   "display_name": "Python 2",
   "language": "python",
   "name": "python2"
  },
  "language_info": {
   "codemirror_mode": {
    "name": "ipython",
    "version": 2
   },
   "file_extension": ".py",
   "mimetype": "text/x-python",
   "name": "python",
   "nbconvert_exporter": "python",
   "pygments_lexer": "ipython2",
   "version": "2.7.13"
  }
 },
 "nbformat": 4,
 "nbformat_minor": 2
}
