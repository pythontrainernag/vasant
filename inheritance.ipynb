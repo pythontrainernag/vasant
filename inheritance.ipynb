{
 "cells": [
  {
   "cell_type": "code",
   "execution_count": 5,
   "metadata": {
    "collapsed": true
   },
   "outputs": [],
   "source": [
    "#inheritance\n",
    "#laptop has been inherited from desktop\n",
    "class Parent:\n",
    "    def __init__(self):\n",
    "        self.a = 100\n",
    "class Child(Parent):\n",
    "    pass"
   ]
  },
  {
   "cell_type": "code",
   "execution_count": 6,
   "metadata": {},
   "outputs": [
    {
     "name": "stdout",
     "output_type": "stream",
     "text": [
      "100\n"
     ]
    }
   ],
   "source": [
    "c = Child()\n",
    "print c.a"
   ]
  },
  {
   "cell_type": "code",
   "execution_count": 7,
   "metadata": {},
   "outputs": [
    {
     "name": "stdout",
     "output_type": "stream",
     "text": [
      "3 2\n"
     ]
    }
   ],
   "source": [
    "#inheritance\n",
    "#laptop has been inherited from desktop\n",
    "class Parent:\n",
    "    def __init__(self, x, y):\n",
    "        self.a = x\n",
    "        self.b = y\n",
    "class Child(Parent):\n",
    "    pass\n",
    "c = Child(3, 2)\n",
    "print c.a, c.b"
   ]
  },
  {
   "cell_type": "code",
   "execution_count": 2,
   "metadata": {},
   "outputs": [
    {
     "ename": "AttributeError",
     "evalue": "Child instance has no attribute 'a'",
     "output_type": "error",
     "traceback": [
      "\u001b[1;31m--------------------------------------------------------------\u001b[0m",
      "\u001b[1;31mAttributeError\u001b[0m               Traceback (most recent call last)",
      "\u001b[1;32m<ipython-input-2-52051a4ade9f>\u001b[0m in \u001b[0;36m<module>\u001b[1;34m()\u001b[0m\n\u001b[0;32m     10\u001b[0m         \u001b[0mself\u001b[0m\u001b[1;33m.\u001b[0m\u001b[0md\u001b[0m \u001b[1;33m=\u001b[0m \u001b[0mx2\u001b[0m\u001b[1;33m\u001b[0m\u001b[0m\n\u001b[0;32m     11\u001b[0m \u001b[0mc\u001b[0m \u001b[1;33m=\u001b[0m \u001b[0mChild\u001b[0m\u001b[1;33m(\u001b[0m\u001b[1;36m3\u001b[0m\u001b[1;33m,\u001b[0m \u001b[1;36m2\u001b[0m\u001b[1;33m)\u001b[0m\u001b[1;33m\u001b[0m\u001b[0m\n\u001b[1;32m---> 12\u001b[1;33m \u001b[1;32mprint\u001b[0m \u001b[0mc\u001b[0m\u001b[1;33m.\u001b[0m\u001b[0ma\u001b[0m\u001b[1;33m,\u001b[0m \u001b[0mc\u001b[0m\u001b[1;33m.\u001b[0m\u001b[0mb\u001b[0m\u001b[1;33m\u001b[0m\u001b[0m\n\u001b[0m",
      "\u001b[1;31mAttributeError\u001b[0m: Child instance has no attribute 'a'"
     ]
    }
   ],
   "source": [
    "#inheritance\n",
    "#laptop has been inherited from desktop\n",
    "class Parent:\n",
    "    def __init__(self, x, y):\n",
    "        self.a = x\n",
    "        self.b = y\n",
    "class Child(Parent):\n",
    "    def __init__(self, x1, x2):\n",
    "        self.c = x1\n",
    "        self.d = x2\n",
    "c = Child(3, 2)\n",
    "print c.a, c.b"
   ]
  },
  {
   "cell_type": "code",
   "execution_count": 3,
   "metadata": {},
   "outputs": [
    {
     "name": "stdout",
     "output_type": "stream",
     "text": [
      "3 2\n"
     ]
    }
   ],
   "source": [
    "print c.c, c.d"
   ]
  },
  {
   "cell_type": "code",
   "execution_count": 9,
   "metadata": {},
   "outputs": [
    {
     "name": "stdout",
     "output_type": "stream",
     "text": [
      "7 9 3 5\n"
     ]
    }
   ],
   "source": [
    "class Myclass(object):\n",
    "    def __init__(self, y1, y2):\n",
    "        self.a = y1\n",
    "        self.b = y2\n",
    "class Child(Myclass):\n",
    "    def __init__(self, x1, x2, y1, y2):\n",
    "        self.c = x1\n",
    "        self.d = x2\n",
    "        super(Child, self).__init__(y1, y2)\n",
    "c = Child(3, 5, 7, 9)\n",
    "print c.a, c.b, c.c, c.d"
   ]
  },
  {
   "cell_type": "code",
   "execution_count": 15,
   "metadata": {},
   "outputs": [
    {
     "name": "stdout",
     "output_type": "stream",
     "text": [
      "100\n"
     ]
    }
   ],
   "source": [
    "class Myclass(object):\n",
    "    def myfun1(self):\n",
    "        self.a = 100\n",
    "class Child(Myclass):\n",
    "    def myfun1(self):\n",
    "        super(Child, self).myfun1()\n",
    "        print self.a\n",
    "c = Child()\n",
    "c.myfun1()\n"
   ]
  },
  {
   "cell_type": "code",
   "execution_count": 16,
   "metadata": {},
   "outputs": [
    {
     "ename": "AttributeError",
     "evalue": "'Child' object has no attribute 'a'",
     "output_type": "error",
     "traceback": [
      "\u001b[1;31m--------------------------------------------------------------\u001b[0m",
      "\u001b[1;31mAttributeError\u001b[0m               Traceback (most recent call last)",
      "\u001b[1;32m<ipython-input-16-83c0541549fe>\u001b[0m in \u001b[0;36m<module>\u001b[1;34m()\u001b[0m\n\u001b[0;32m      8\u001b[0m \u001b[1;33m\u001b[0m\u001b[0m\n\u001b[0;32m      9\u001b[0m \u001b[0mc\u001b[0m \u001b[1;33m=\u001b[0m \u001b[0mChild\u001b[0m\u001b[1;33m(\u001b[0m\u001b[1;33m)\u001b[0m\u001b[1;33m\u001b[0m\u001b[0m\n\u001b[1;32m---> 10\u001b[1;33m \u001b[0mc\u001b[0m\u001b[1;33m.\u001b[0m\u001b[0mmyfun1\u001b[0m\u001b[1;33m(\u001b[0m\u001b[1;33m)\u001b[0m\u001b[1;33m\u001b[0m\u001b[0m\n\u001b[0m",
      "\u001b[1;32m<ipython-input-16-83c0541549fe>\u001b[0m in \u001b[0;36mmyfun1\u001b[1;34m(self)\u001b[0m\n\u001b[0;32m      4\u001b[0m \u001b[1;32mclass\u001b[0m \u001b[0mChild\u001b[0m\u001b[1;33m(\u001b[0m\u001b[0mMyclass\u001b[0m\u001b[1;33m)\u001b[0m\u001b[1;33m:\u001b[0m\u001b[1;33m\u001b[0m\u001b[0m\n\u001b[0;32m      5\u001b[0m     \u001b[1;32mdef\u001b[0m \u001b[0mmyfun1\u001b[0m\u001b[1;33m(\u001b[0m\u001b[0mself\u001b[0m\u001b[1;33m)\u001b[0m\u001b[1;33m:\u001b[0m\u001b[1;33m\u001b[0m\u001b[0m\n\u001b[1;32m----> 6\u001b[1;33m         \u001b[1;32mprint\u001b[0m \u001b[0mself\u001b[0m\u001b[1;33m.\u001b[0m\u001b[0ma\u001b[0m\u001b[1;33m\u001b[0m\u001b[0m\n\u001b[0m\u001b[0;32m      7\u001b[0m         \u001b[0msuper\u001b[0m\u001b[1;33m(\u001b[0m\u001b[0mChild\u001b[0m\u001b[1;33m,\u001b[0m \u001b[0mself\u001b[0m\u001b[1;33m)\u001b[0m\u001b[1;33m.\u001b[0m\u001b[0mmyfun1\u001b[0m\u001b[1;33m(\u001b[0m\u001b[1;33m)\u001b[0m\u001b[1;33m\u001b[0m\u001b[0m\n\u001b[0;32m      8\u001b[0m \u001b[1;33m\u001b[0m\u001b[0m\n",
      "\u001b[1;31mAttributeError\u001b[0m: 'Child' object has no attribute 'a'"
     ]
    }
   ],
   "source": [
    "class Myclass(object):\n",
    "    def myfun1(self):\n",
    "        self.a = 100\n",
    "class Child(Myclass):\n",
    "    def myfun1(self):\n",
    "        print self.a\n",
    "        super(Child, self).myfun1()\n",
    "        \n",
    "c = Child()\n",
    "c.myfun1()\n"
   ]
  },
  {
   "cell_type": "code",
   "execution_count": 18,
   "metadata": {},
   "outputs": [
    {
     "name": "stdout",
     "output_type": "stream",
     "text": [
      "500\n",
      "1000\n",
      "600 1200\n",
      "interest calculated at 6%\n",
      "interest calculated at 1%\n"
     ]
    }
   ],
   "source": [
    "class Account(object):\n",
    "    def __init__(self, bal):\n",
    "        self.bal = bal\n",
    "    def deposit(self, amount):\n",
    "        self.bal += amount\n",
    "        return self.bal\n",
    "    def withdrawl(self, amount):\n",
    "        self.bal -= amount\n",
    "        return self.bal\n",
    "class SA(Account):\n",
    "    def calculate_interest(self):\n",
    "        return \"interest calculated at 6%\"\n",
    "class CA(Account):\n",
    "    def calculate_interest(self):\n",
    "        return \"interest calculated at 1%\"\n",
    "s = SA(500)\n",
    "c = CA(1000)\n",
    "print s.bal\n",
    "print c.bal\n",
    "print s.deposit(100), c.deposit(200)\n",
    "print s.calculate_interest()\n",
    "print c.calculate_interest()"
   ]
  },
  {
   "cell_type": "code",
   "execution_count": null,
   "metadata": {
    "collapsed": true
   },
   "outputs": [],
   "source": []
  }
 ],
 "metadata": {
  "kernelspec": {
   "display_name": "Python 2",
   "language": "python",
   "name": "python2"
  },
  "language_info": {
   "codemirror_mode": {
    "name": "ipython",
    "version": 2
   },
   "file_extension": ".py",
   "mimetype": "text/x-python",
   "name": "python",
   "nbconvert_exporter": "python",
   "pygments_lexer": "ipython2",
   "version": "2.7.13"
  }
 },
 "nbformat": 4,
 "nbformat_minor": 2
}
