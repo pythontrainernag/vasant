{
 "cells": [
  {
   "cell_type": "code",
   "execution_count": 1,
   "metadata": {
    "collapsed": true
   },
   "outputs": [],
   "source": [
    "#class object\n",
    "class Account:\n",
    "    def deposit(self):\n",
    "        pass\n",
    "    def withdrawl(self):\n",
    "        pass\n",
    "#performs actions and it also contains attributes\n",
    "# every action replaced with fucntion in class \n",
    "# every attribute replaced with variable inside the class\n",
    "\n",
    "# var = className\n",
    "x = Account()\n"
   ]
  },
  {
   "cell_type": "code",
   "execution_count": 2,
   "metadata": {},
   "outputs": [
    {
     "name": "stdout",
     "output_type": "stream",
     "text": [
      "<__main__.Account instance at 0x03AEBA80>\n"
     ]
    }
   ],
   "source": [
    "print(x)"
   ]
  },
  {
   "cell_type": "code",
   "execution_count": 3,
   "metadata": {
    "collapsed": true
   },
   "outputs": [],
   "source": [
    "x1 = Account()"
   ]
  },
  {
   "cell_type": "code",
   "execution_count": 4,
   "metadata": {},
   "outputs": [
    {
     "name": "stdout",
     "output_type": "stream",
     "text": [
      "<__main__.Account instance at 0x03B7A238>\n"
     ]
    }
   ],
   "source": [
    "print(x1)"
   ]
  },
  {
   "cell_type": "code",
   "execution_count": 5,
   "metadata": {
    "collapsed": true
   },
   "outputs": [],
   "source": [
    "x.deposit()"
   ]
  },
  {
   "cell_type": "code",
   "execution_count": 11,
   "metadata": {
    "collapsed": true
   },
   "outputs": [],
   "source": [
    "class Pen():\n",
    "    def __init__(self):\n",
    "        self.ink_level = 10\n",
    "    def write10(self):\n",
    "        self.ink_level -= 1\n",
    "    def write20(self):\n",
    "        self.ink_level -= 2\n",
    "    def check_ink(self):\n",
    "        return self.ink_level\n",
    "p1 = Pen()\n",
    "p2 = Pen()"
   ]
  },
  {
   "cell_type": "code",
   "execution_count": 12,
   "metadata": {
    "collapsed": true
   },
   "outputs": [],
   "source": [
    "p1.write10()"
   ]
  },
  {
   "cell_type": "code",
   "execution_count": 13,
   "metadata": {
    "collapsed": true
   },
   "outputs": [],
   "source": [
    "p2.write20()"
   ]
  },
  {
   "cell_type": "code",
   "execution_count": 14,
   "metadata": {},
   "outputs": [
    {
     "data": {
      "text/plain": [
       "9"
      ]
     },
     "execution_count": 14,
     "metadata": {},
     "output_type": "execute_result"
    }
   ],
   "source": [
    "p1.check_ink()"
   ]
  },
  {
   "cell_type": "code",
   "execution_count": 15,
   "metadata": {},
   "outputs": [
    {
     "data": {
      "text/plain": [
       "8"
      ]
     },
     "execution_count": 15,
     "metadata": {},
     "output_type": "execute_result"
    }
   ],
   "source": [
    "p2.check_ink()"
   ]
  },
  {
   "cell_type": "code",
   "execution_count": 16,
   "metadata": {
    "collapsed": true
   },
   "outputs": [],
   "source": [
    "class Myclass():\n",
    "    def __init__(self):\n",
    "        print \"I am done with basic set up\""
   ]
  },
  {
   "cell_type": "code",
   "execution_count": 17,
   "metadata": {},
   "outputs": [
    {
     "name": "stdout",
     "output_type": "stream",
     "text": [
      "I am done with basic set up\n"
     ]
    }
   ],
   "source": [
    "c = Myclass()"
   ]
  },
  {
   "cell_type": "code",
   "execution_count": 30,
   "metadata": {},
   "outputs": [
    {
     "name": "stdout",
     "output_type": "stream",
     "text": [
      "<__main__.Myclass instance at 0x03BF1940>\n",
      "<__main__.Myclass instance at 0x03BF1DA0>\n",
      "c1 value is <__main__.Myclass instance at 0x03BF1940>\n",
      "c2 values is <__main__.Myclass instance at 0x03BF1DA0>\n",
      "calling deposit with c1\n",
      "<__main__.Myclass instance at 0x03BF1940>\n",
      "8\n",
      "calling deposit with c2\n",
      "<__main__.Myclass instance at 0x03BF1DA0>\n",
      "12\n"
     ]
    }
   ],
   "source": [
    "class Myclass():\n",
    "    def __init__(self, a, b):\n",
    "        print self\n",
    "        self.a = a\n",
    "        self.c = b\n",
    "    def deposit(self):\n",
    "        print self\n",
    "        return self.a + self.c\n",
    "c1 = Myclass(3, 5)\n",
    "c2 = Myclass(4, 8)\n",
    "print \"c1 value is\", c1\n",
    "print \"c2 values is\", c2\n",
    "print \"calling deposit with c1\"\n",
    "print(c1.deposit())\n",
    "print \"calling deposit with c2\"\n",
    "print(c2.deposit())"
   ]
  },
  {
   "cell_type": "code",
   "execution_count": 32,
   "metadata": {},
   "outputs": [
    {
     "name": "stdout",
     "output_type": "stream",
     "text": [
      "<__main__.Myclass instance at 0x03BF1800>\n",
      "<__main__.Myclass instance at 0x03BF1788>\n",
      "c1 value is <__main__.Myclass instance at 0x03BF1800>\n",
      "c2 values is <__main__.Myclass instance at 0x03BF1788>\n",
      "calling deposit with c1\n",
      "<__main__.Myclass instance at 0x03BF1800>\n",
      "8\n",
      "calling deposit with c2\n",
      "<__main__.Myclass instance at 0x03BF1788>\n",
      "12\n"
     ]
    }
   ],
   "source": [
    "class Myclass():\n",
    "    def __init__(self, a, b):\n",
    "        print self\n",
    "        self.a = a\n",
    "        self.c = b\n",
    "    def deposit(arg):\n",
    "        print arg\n",
    "        return arg.a + arg.c\n",
    "c1 = Myclass(3, 5)\n",
    "c2 = Myclass(4, 8)\n",
    "print \"c1 value is\", c1\n",
    "print \"c2 values is\", c2\n",
    "print \"calling deposit with c1\"\n",
    "print(c1.deposit())\n",
    "print \"calling deposit with c2\"\n",
    "print(c2.deposit())"
   ]
  },
  {
   "cell_type": "code",
   "execution_count": 33,
   "metadata": {},
   "outputs": [
    {
     "name": "stdout",
     "output_type": "stream",
     "text": [
      "<__main__.Myclass instance at 0x03BF1170>\n",
      "<__main__.Myclass instance at 0x03BF1328>\n"
     ]
    }
   ],
   "source": [
    "class Myclass():\n",
    "    def __init__(self, username):\n",
    "        self.user = username\n",
    "    def check_user(self, name):\n",
    "        return self.user == name\n",
    "c1 = Myclass('nag')\n",
    "c2 = Myclass('Vasant')"
   ]
  },
  {
   "cell_type": "code",
   "execution_count": 34,
   "metadata": {},
   "outputs": [
    {
     "data": {
      "text/plain": [
       "True"
      ]
     },
     "execution_count": 34,
     "metadata": {},
     "output_type": "execute_result"
    }
   ],
   "source": [
    "c1.check_user('nag')"
   ]
  },
  {
   "cell_type": "code",
   "execution_count": 35,
   "metadata": {},
   "outputs": [
    {
     "data": {
      "text/plain": [
       "False"
      ]
     },
     "execution_count": 35,
     "metadata": {},
     "output_type": "execute_result"
    }
   ],
   "source": [
    "c2.check_user('nag')"
   ]
  },
  {
   "cell_type": "code",
   "execution_count": 26,
   "metadata": {},
   "outputs": [
    {
     "name": "stdout",
     "output_type": "stream",
     "text": [
      "<__main__.Myclass instance at 0x03BE2D28>\n"
     ]
    },
    {
     "data": {
      "text/plain": [
       "8"
      ]
     },
     "execution_count": 26,
     "metadata": {},
     "output_type": "execute_result"
    }
   ],
   "source": [
    "c1.add()"
   ]
  },
  {
   "cell_type": "code",
   "execution_count": 27,
   "metadata": {},
   "outputs": [
    {
     "name": "stdout",
     "output_type": "stream",
     "text": [
      "<__main__.Myclass instance at 0x03BE2210>\n"
     ]
    },
    {
     "data": {
      "text/plain": [
       "12"
      ]
     },
     "execution_count": 27,
     "metadata": {},
     "output_type": "execute_result"
    }
   ],
   "source": [
    "c2.add()"
   ]
  },
  {
   "cell_type": "code",
   "execution_count": null,
   "metadata": {
    "collapsed": true
   },
   "outputs": [],
   "source": []
  }
 ],
 "metadata": {
  "kernelspec": {
   "display_name": "Python 2",
   "language": "python",
   "name": "python2"
  },
  "language_info": {
   "codemirror_mode": {
    "name": "ipython",
    "version": 2
   },
   "file_extension": ".py",
   "mimetype": "text/x-python",
   "name": "python",
   "nbconvert_exporter": "python",
   "pygments_lexer": "ipython2",
   "version": "2.7.13"
  }
 },
 "nbformat": 4,
 "nbformat_minor": 2
}
