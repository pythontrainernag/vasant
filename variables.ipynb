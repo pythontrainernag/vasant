{
 "cells": [
  {
   "cell_type": "code",
   "execution_count": 1,
   "metadata": {
    "collapsed": true
   },
   "outputs": [],
   "source": [
    "#class variables\n",
    "#instance variables\n",
    "#functional local variables"
   ]
  },
  {
   "cell_type": "code",
   "execution_count": 10,
   "metadata": {
    "collapsed": true
   },
   "outputs": [],
   "source": [
    "class Myclass():\n",
    "    a = 10\n",
    "    b = 50\n",
    "    def __init__(self, e, f):\n",
    "        self.c = e\n",
    "        self.d = f\n",
    "        self.f = 80\n",
    "    def valid(self):\n",
    "        print self"
   ]
  },
  {
   "cell_type": "code",
   "execution_count": 11,
   "metadata": {
    "collapsed": true
   },
   "outputs": [],
   "source": [
    "i1 = Myclass(100, 200)\n",
    "i2 = Myclass(300, 400)"
   ]
  },
  {
   "cell_type": "code",
   "execution_count": 12,
   "metadata": {},
   "outputs": [
    {
     "name": "stdout",
     "output_type": "stream",
     "text": [
      "10 50 100 200 80\n",
      "10 50 300 400 80\n"
     ]
    }
   ],
   "source": [
    "print i1.a,i1.b, i1.c,i1.d, i1.f\n",
    "print i2.a,i2.b, i2.c,i2.d, i2.f"
   ]
  },
  {
   "cell_type": "code",
   "execution_count": 13,
   "metadata": {},
   "outputs": [
    {
     "name": "stdout",
     "output_type": "stream",
     "text": [
      "15 50 100 200 80\n",
      "15 50 300 400 80\n"
     ]
    }
   ],
   "source": [
    "#clas variables can be read in two forms. 1. using className 2. using instance\n",
    "#class var can be modified only by using class Name\n",
    "Myclass.a = 15\n",
    "print i1.a,i1.b, i1.c,i1.d, i1.f\n",
    "print i2.a,i2.b, i2.c,i2.d, i2.f\n"
   ]
  },
  {
   "cell_type": "code",
   "execution_count": 14,
   "metadata": {},
   "outputs": [
    {
     "name": "stdout",
     "output_type": "stream",
     "text": [
      "15 50 150 200 80\n",
      "15 50 300 400 80\n"
     ]
    }
   ],
   "source": [
    "i1.c = 150\n",
    "print i1.a,i1.b, i1.c,i1.d, i1.f\n",
    "print i2.a,i2.b, i2.c,i2.d, i2.f"
   ]
  },
  {
   "cell_type": "code",
   "execution_count": 15,
   "metadata": {},
   "outputs": [
    {
     "name": "stdout",
     "output_type": "stream",
     "text": [
      "<__main__.Myclass instance at 0x03BFA328>\n"
     ]
    }
   ],
   "source": [
    "i1.valid()"
   ]
  },
  {
   "cell_type": "code",
   "execution_count": 16,
   "metadata": {},
   "outputs": [
    {
     "data": {
      "text/plain": [
       "<__main__.Myclass instance at 0x03BFA328>"
      ]
     },
     "execution_count": 16,
     "metadata": {},
     "output_type": "execute_result"
    }
   ],
   "source": [
    "i1"
   ]
  },
  {
   "cell_type": "code",
   "execution_count": 17,
   "metadata": {
    "collapsed": true
   },
   "outputs": [],
   "source": [
    "i1.a = 160"
   ]
  },
  {
   "cell_type": "code",
   "execution_count": 18,
   "metadata": {},
   "outputs": [
    {
     "name": "stdout",
     "output_type": "stream",
     "text": [
      "160 50 150 200 80\n",
      "15 50 300 400 80\n"
     ]
    }
   ],
   "source": [
    "print i1.a,i1.b, i1.c,i1.d, i1.f\n",
    "print i2.a,i2.b, i2.c,i2.d, i2.f"
   ]
  },
  {
   "cell_type": "code",
   "execution_count": 19,
   "metadata": {},
   "outputs": [
    {
     "data": {
      "text/plain": [
       "15"
      ]
     },
     "execution_count": 19,
     "metadata": {},
     "output_type": "execute_result"
    }
   ],
   "source": [
    "Myclass.a"
   ]
  },
  {
   "cell_type": "code",
   "execution_count": 20,
   "metadata": {
    "collapsed": true
   },
   "outputs": [],
   "source": [
    "class Myclass():\n",
    "    a = 10\n",
    "    b = 50\n",
    "    def __init__(self, e, f):\n",
    "        self.c = e\n",
    "        self.d = f\n",
    "        self.f = 80\n",
    "    def valid(self):\n",
    "        print self.c, self.d, self.a"
   ]
  },
  {
   "cell_type": "code",
   "execution_count": 21,
   "metadata": {},
   "outputs": [
    {
     "name": "stdout",
     "output_type": "stream",
     "text": [
      "300 400 10\n",
      "100 200 10\n"
     ]
    }
   ],
   "source": [
    "i1 = Myclass(300, 400)\n",
    "i2 = Myclass(100, 200)\n",
    "i1.valid()\n",
    "i2.valid()"
   ]
  },
  {
   "cell_type": "code",
   "execution_count": 22,
   "metadata": {
    "collapsed": true
   },
   "outputs": [],
   "source": [
    "#1. to display fractional number number 5/3 2. addition of two fractional numbers"
   ]
  },
  {
   "cell_type": "code",
   "execution_count": 23,
   "metadata": {},
   "outputs": [
    {
     "data": {
      "text/plain": [
       "'5/3'"
      ]
     },
     "execution_count": 23,
     "metadata": {},
     "output_type": "execute_result"
    }
   ],
   "source": [
    "str(5)+\"/\"+str(3)"
   ]
  },
  {
   "cell_type": "code",
   "execution_count": 25,
   "metadata": {},
   "outputs": [
    {
     "name": "stdout",
     "output_type": "stream",
     "text": [
      "<__main__.Fraction instance at 0x03C66C88>\n"
     ]
    }
   ],
   "source": [
    "class Fraction():\n",
    "    def __init__(self, a, b):\n",
    "        self.num = a\n",
    "        self.denom = b\n",
    "a = Fraction(5, 3)\n",
    "print a"
   ]
  },
  {
   "cell_type": "code",
   "execution_count": 26,
   "metadata": {},
   "outputs": [
    {
     "name": "stdout",
     "output_type": "stream",
     "text": [
      "5/3\n"
     ]
    }
   ],
   "source": [
    "class Fraction():\n",
    "    def __init__(self, a, b):\n",
    "        self.num = a\n",
    "        self.denom = b\n",
    "    def display(self):\n",
    "        return str(self.num)+'/'+str(self.denom)\n",
    "a = Fraction(5, 3)\n",
    "print a.display()"
   ]
  },
  {
   "cell_type": "code",
   "execution_count": 27,
   "metadata": {},
   "outputs": [
    {
     "name": "stdout",
     "output_type": "stream",
     "text": [
      "5/3\n"
     ]
    }
   ],
   "source": [
    "class Fraction():\n",
    "    def __init__(self, a, b):\n",
    "        self.num = a\n",
    "        self.denom = b\n",
    "    def __str__(self):\n",
    "        return str(self.num)+'/'+str(self.denom)\n",
    "a = Fraction(5, 3)\n",
    "print a"
   ]
  },
  {
   "cell_type": "code",
   "execution_count": 28,
   "metadata": {},
   "outputs": [
    {
     "data": {
      "text/plain": [
       "5"
      ]
     },
     "execution_count": 28,
     "metadata": {},
     "output_type": "execute_result"
    }
   ],
   "source": [
    "a.num"
   ]
  },
  {
   "cell_type": "code",
   "execution_count": 29,
   "metadata": {},
   "outputs": [
    {
     "name": "stdout",
     "output_type": "stream",
     "text": [
      "5/3\n"
     ]
    }
   ],
   "source": [
    "print a"
   ]
  },
  {
   "cell_type": "code",
   "execution_count": 30,
   "metadata": {},
   "outputs": [
    {
     "name": "stdout",
     "output_type": "stream",
     "text": [
      "5/3\n",
      "8/6\n"
     ]
    }
   ],
   "source": [
    "class Fraction():\n",
    "    def __init__(self, a, b):\n",
    "        self.num = a\n",
    "        self.denom = b\n",
    "    def __str__(self):\n",
    "        return str(self.num)+'/'+str(self.denom)\n",
    "f1 = Fraction(5, 3)\n",
    "f2 = Fraction(8, 6)\n",
    "print f1\n",
    "print f2"
   ]
  },
  {
   "cell_type": "code",
   "execution_count": 31,
   "metadata": {},
   "outputs": [
    {
     "name": "stdout",
     "output_type": "stream",
     "text": [
      "5/3\n",
      "8/6\n",
      "54/30\n"
     ]
    }
   ],
   "source": [
    "class Fraction():\n",
    "    def __init__(self, a, b):\n",
    "        self.num = a\n",
    "        self.denom = b\n",
    "    def __str__(self):\n",
    "        return str(self.num)+'/'+str(self.denom)\n",
    "    def add(self, other):\n",
    "        local_num = (self.num*other.denom)+(self.denom*other.num)\n",
    "        local_denom = self.num*other.denom\n",
    "        return str(local_num)+'/'+str(local_denom)\n",
    "f1 = Fraction(5, 3)\n",
    "f2 = Fraction(8, 6)\n",
    "print f1\n",
    "print f2\n",
    "print f1.add(f2)"
   ]
  },
  {
   "cell_type": "code",
   "execution_count": 33,
   "metadata": {},
   "outputs": [
    {
     "name": "stdout",
     "output_type": "stream",
     "text": [
      "5/3\n",
      "8/6\n",
      "54/30\n",
      "54/30\n"
     ]
    }
   ],
   "source": [
    "class Fraction():\n",
    "    def __init__(self, a, b):\n",
    "        self.num = a\n",
    "        self.denom = b\n",
    "    def __str__(self):\n",
    "        return str(self.num)+'/'+str(self.denom)\n",
    "    def __add__(self, other):\n",
    "        local_num = (self.num*other.denom)+(self.denom*other.num)\n",
    "        local_denom = self.num*other.denom\n",
    "        return str(local_num)+'/'+str(local_denom)\n",
    "f1 = Fraction(5, 3)\n",
    "f2 = Fraction(8, 6)\n",
    "print f1\n",
    "print f2\n",
    "print f1+f2\n",
    "print f1.__add__(f2)"
   ]
  },
  {
   "cell_type": "code",
   "execution_count": 35,
   "metadata": {},
   "outputs": [
    {
     "name": "stdout",
     "output_type": "stream",
     "text": [
      "['__abs__', '__add__', '__and__', '__class__', '__cmp__', '__coerce__', '__delattr__', '__div__', '__divmod__', '__doc__', '__float__', '__floordiv__', '__format__', '__getattribute__', '__getnewargs__', '__hash__', '__hex__', '__index__', '__init__', '__int__', '__invert__', '__long__', '__lshift__', '__mod__', '__mul__', '__neg__', '__new__', '__nonzero__', '__oct__', '__or__', '__pos__', '__pow__', '__radd__', '__rand__', '__rdiv__', '__rdivmod__', '__reduce__', '__reduce_ex__', '__repr__', '__rfloordiv__', '__rlshift__', '__rmod__', '__rmul__', '__ror__', '__rpow__', '__rrshift__', '__rshift__', '__rsub__', '__rtruediv__', '__rxor__', '__setattr__', '__sizeof__', '__str__', '__sub__', '__subclasshook__', '__truediv__', '__trunc__', '__xor__', 'bit_length', 'conjugate', 'denominator', 'imag', 'numerator', 'real']\n"
     ]
    }
   ],
   "source": [
    "#magical methods\n",
    "x = 5\n",
    "print dir(x)"
   ]
  },
  {
   "cell_type": "code",
   "execution_count": null,
   "metadata": {
    "collapsed": true
   },
   "outputs": [],
   "source": []
  }
 ],
 "metadata": {
  "kernelspec": {
   "display_name": "Python 2",
   "language": "python",
   "name": "python2"
  },
  "language_info": {
   "codemirror_mode": {
    "name": "ipython",
    "version": 2
   },
   "file_extension": ".py",
   "mimetype": "text/x-python",
   "name": "python",
   "nbconvert_exporter": "python",
   "pygments_lexer": "ipython2",
   "version": "2.7.13"
  }
 },
 "nbformat": 4,
 "nbformat_minor": 2
}
